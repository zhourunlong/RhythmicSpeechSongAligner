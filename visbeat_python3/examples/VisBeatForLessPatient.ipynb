{
 "cells": [
  {
   "cell_type": "code",
   "execution_count": null,
   "metadata": {},
   "outputs": [],
   "source": []
  },
  {
   "cell_type": "markdown",
   "metadata": {},
   "source": [
    "# Dancefer( )... aka \"VisBeat for the less patient\"\n"
   ]
  },
  {
   "cell_type": "markdown",
   "metadata": {},
   "source": [
    "\n",
    "\n",
    "At minimum, you can just copy two youtube links into **source_video_url** and **target_music_url** and then run the whole notebook to see the result at the end. \n",
    "\n",
    "- **source** is the dance video you want to modify, **target** is the new music you want things to dance to.\n",
    "- Youtube links and local file paths to videos should work.\n",
    "\n",
    "NOTE: If you want to find files outside of this notebook, I suggest also specifying a source name, target name, and output path in the second panel."
   ]
  },
  {
   "cell_type": "code",
   "execution_count": null,
   "metadata": {},
   "outputs": [],
   "source": [
    "source_video_url = 'https://www.youtube.com/watch?v=ya4yyg9XiI4'\n",
    "target_music_url = 'https://www.youtube.com/watch?v=WqVqMLS3OEk'"
   ]
  },
  {
   "cell_type": "code",
   "execution_count": null,
   "metadata": {},
   "outputs": [],
   "source": [
    "# (Optional) Give these videos names to better organize your files later...\n",
    "source_name = None\n",
    "target_name = None\n",
    "\n",
    "# (Optional) path for the output. If you dont specify it will be placed in a default location that may be hard to find...\n",
    "output_path = './MyAwesomeDancifiedVideo.mp4'"
   ]
  },
  {
   "cell_type": "markdown",
   "metadata": {},
   "source": [
    "***\n",
    "# Execution:\n",
    "\n",
    "For those interested in doing anything more than the absolute basic, I suggest looking at the tutorial notebook.\n"
   ]
  },
  {
   "cell_type": "markdown",
   "metadata": {},
   "source": [
    "### Import VisBeat, create a directory for our files, and download the videos into that directory\n"
   ]
  },
  {
   "cell_type": "code",
   "execution_count": null,
   "metadata": {},
   "outputs": [],
   "source": [
    "import visbeat as vb\n",
    "import os\n",
    "vb.SetAssetsDir('.'+os.sep+'VisBeatAssets'+os.sep)\n",
    "source = vb.PullVideo(source_location=source_video_url)\n",
    "target = vb.PullVideo(source_location=target_music_url)\n"
   ]
  },
  {
   "cell_type": "markdown",
   "metadata": {},
   "source": [
    "### Rendering the result:\n",
    "You can optionally specify a beat from the video and a beat from the audio that you want to line up, and how many beats you want to render."
   ]
  },
  {
   "cell_type": "code",
   "execution_count": null,
   "metadata": {
    "scrolled": true
   },
   "outputs": [],
   "source": [
    "synch_video_beat = 0\n",
    "synch_audio_beat = 0\n",
    "nbeats = 16\n",
    "\n",
    "\n",
    "warped = vb.Dancefer(source_video=source, target=target, synch_video_beat=synch_video_beat,\n",
    "                    synch_audio_beat=synch_audio_beat, force_recompute=True, warp_type = 'quad',\n",
    "                    nbeats=nbeats, output_path = output_path)\n",
    "\n"
   ]
  },
  {
   "cell_type": "markdown",
   "metadata": {},
   "source": [
    "## Enjoy your result!\n",
    "Note that the [example target audio]('https://www.youtube.com/watch?v=WqVqMLS3OEk') I provide in this notebook comes from a previously computed result. This is so that you compare your result to what you see in that link. They won't be exactly identical, since I ran some spatial and temporal superesolution on the video I posted, but they should look mostly the same."
   ]
  },
  {
   "cell_type": "code",
   "execution_count": null,
   "metadata": {
    "scrolled": true
   },
   "outputs": [],
   "source": [
    "warped.play()"
   ]
  },
  {
   "cell_type": "markdown",
   "metadata": {},
   "source": [
    "***\n",
    "### Warp Curves:\n",
    "You can visualize the warp curve for your result as below. For simple dance retargeting the curve should look uniformly bumpy."
   ]
  },
  {
   "cell_type": "code",
   "execution_count": null,
   "metadata": {},
   "outputs": [],
   "source": [
    "warped.getInfo('warp_used').plot()\n"
   ]
  },
  {
   "cell_type": "markdown",
   "metadata": {},
   "source": [
    "# Finding your files\n",
    "You can use the **getPath()** method to help find your files. Specifying names and output paths at the top of the notebook will make this simpler."
   ]
  },
  {
   "cell_type": "code",
   "execution_count": null,
   "metadata": {},
   "outputs": [],
   "source": [
    "print(\"Your result was saved to: {}\".format(warped.getPath()))\n",
    "print(\"Source File: {}\\n\\nTarget File: {}\\n\\nResult: {}\".format(source.getPath(), target.getPath(), warped.getPath()))\n"
   ]
  },
  {
   "cell_type": "code",
   "execution_count": null,
   "metadata": {},
   "outputs": [],
   "source": []
  }
 ],
 "metadata": {
  "kernelspec": {
   "display_name": "Python [conda env:test_visbeat_public]",
   "language": "python",
   "name": "conda-env-test_visbeat_public-py"
  },
  "language_info": {
   "codemirror_mode": {
    "name": "ipython",
    "version": 2
   },
   "file_extension": ".py",
   "mimetype": "text/x-python",
   "name": "python",
   "nbconvert_exporter": "python",
   "pygments_lexer": "ipython2",
   "version": "2.7.15"
  },
  "varInspector": {
   "cols": {
    "lenName": 16,
    "lenType": 16,
    "lenVar": 40
   },
   "kernels_config": {
    "python": {
     "delete_cmd_postfix": "",
     "delete_cmd_prefix": "del ",
     "library": "var_list.py",
     "varRefreshCmd": "print(var_dic_list())"
    },
    "r": {
     "delete_cmd_postfix": ") ",
     "delete_cmd_prefix": "rm(",
     "library": "var_list.r",
     "varRefreshCmd": "cat(var_dic_list()) "
    }
   },
   "types_to_exclude": [
    "module",
    "function",
    "builtin_function_or_method",
    "instance",
    "_Feature"
   ],
   "window_display": false
  }
 },
 "nbformat": 4,
 "nbformat_minor": 2
}
