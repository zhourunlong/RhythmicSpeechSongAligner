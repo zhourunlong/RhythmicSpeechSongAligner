{
 "cells": [
  {
   "cell_type": "markdown",
   "metadata": {},
   "source": [
    "# TL;DR - Just show me dancing stuff\n",
    "\n",
    "Ok -- just specify a source video and a target video and press go. Look at the other notebooks if you want to fine-tune your results."
   ]
  },
  {
   "cell_type": "code",
   "execution_count": null,
   "metadata": {},
   "outputs": [],
   "source": [
    "import visbeat\n",
    "\n",
    "source_url = 'https://www.youtube.com/watch?v=fDWFVI8PQOI';\n",
    "target_url = 'https://www.youtube.com/watch?v=prPjpwsGiws'; # YUM! YUM! BREAKFAST BURRITO!\n",
    "\n",
    "output_path = './MyFunnyVideo.mp4';\n",
    "\n",
    "result = visbeat.AutoDancefer(source=source_url, target = target_url, \n",
    "                              output_path = output_path,\n",
    "                              synch_video_beat = 0,\n",
    "                              synch_audio_beat = 0,\n",
    "                              beat_offset = 64,\n",
    "                              nbeats = 128);\n",
    "result.play();"
   ]
  },
  {
   "cell_type": "code",
   "execution_count": null,
   "metadata": {},
   "outputs": [],
   "source": []
  }
 ],
 "metadata": {
  "kernelspec": {
   "display_name": "Python 2",
   "language": "python",
   "name": "python2"
  },
  "language_info": {
   "codemirror_mode": {
    "name": "ipython",
    "version": 2
   },
   "file_extension": ".py",
   "mimetype": "text/x-python",
   "name": "python",
   "nbconvert_exporter": "python",
   "pygments_lexer": "ipython2",
   "version": "2.7.15"
  },
  "varInspector": {
   "cols": {
    "lenName": 16,
    "lenType": 16,
    "lenVar": 40
   },
   "kernels_config": {
    "python": {
     "delete_cmd_postfix": "",
     "delete_cmd_prefix": "del ",
     "library": "var_list.py",
     "varRefreshCmd": "print(var_dic_list())"
    },
    "r": {
     "delete_cmd_postfix": ") ",
     "delete_cmd_prefix": "rm(",
     "library": "var_list.r",
     "varRefreshCmd": "cat(var_dic_list()) "
    }
   },
   "types_to_exclude": [
    "module",
    "function",
    "builtin_function_or_method",
    "instance",
    "_Feature"
   ],
   "window_display": false
  }
 },
 "nbformat": 4,
 "nbformat_minor": 2
}
