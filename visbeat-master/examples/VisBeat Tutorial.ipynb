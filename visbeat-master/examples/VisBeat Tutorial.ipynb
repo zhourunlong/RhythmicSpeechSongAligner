{
 "cells": [
  {
   "cell_type": "markdown",
   "metadata": {},
   "source": [
    "# VisBeat Tutorial\n",
    "\n",
    "Welcome! This notebook will walk you through the basics of using _visbeat_ to manipulate dance in video.\n",
    "\n",
    "For the **TL;DR** version, check out **VisBeatTLDR.ipynb** and/or **VisBeatTLDR.py**.\n",
    "\n",
    "- The first part of the tutorial walks you through the basics of using visbeat. \n",
    "- The second part demonstrates music-based dance retargeting, and does not require OpenCV. \n",
    "- The final part demonstrates dancification using visible impact and visual beats. This requires OpenCV.\n"
   ]
  },
  {
   "cell_type": "markdown",
   "metadata": {},
   "source": [
    "<a id='section0'></a>\n",
    "# Section 0: VisBeat Basics\n",
    "VisBeat is the public implementation of \"__[Visual Rhythm And Beat](http://abedavis.com/visualbeat/)__\" [SIGGRAPH 2018]. For an overview of the project, check out our __[Overview Video](https://www.youtube.com/watch?v=K3z68mOLbNo)__ or visit the \"__[Project Website](http://abedavis.com/visualbeat/)__\".\n",
    "\n",
    "\n",
    "\n",
    "<a id='section0p1'></a>\n",
    "## 0.1 -- Importing VisBeat\n",
    "\n",
    "We will assume you were able to install visbeat using `pip install visbeat`; if that is the case then you should have all of the dependencies necessary for at least the first part of this tutorial.\n",
    "\n",
    "Import visbeat just like any other python module. In most of my example code I import it as `vb`:<br>\n",
    "`import visbeat as vb`<br>\n",
    "\n",
    "\n",
    "<div class=\"alert alert-block alert-warning\">\n",
    "<b>OpenCV: </b> If you see a warning about OpenCV not being installed, don't worry about it for now. Section 2 of the tutorial requires OpenCV to run visual impact-based warping and visual beat detection, but you can still use retime existing dance video without it (the basic Dancefer() function). We'll come back to this in Section 2.\n",
    "</div>\n",
    "\n",
    "***\n"
   ]
  },
  {
   "cell_type": "code",
   "execution_count": null,
   "metadata": {},
   "outputs": [],
   "source": [
    "# Other imports we will use for convenience in this tutorial\n",
    "import os, time, matplotlib\n",
    "%matplotlib inline  \n",
    "import matplotlib.pyplot as plt\n",
    "import numpy as np # Most of the math in visbeat is done with numpy\n",
    "\n",
    "# We will call visbeat functions through 'vb'\n",
    "import visbeat as vb"
   ]
  },
  {
   "cell_type": "markdown",
   "metadata": {},
   "source": [
    "***\n",
    "<a id='section0p2'></a>\n",
    "## 0.2 -- Specify a directory for storing files\n",
    "First things first: we are going to be dealing with a lot of media files, so we need a place to save them.\n",
    "\n",
    "Specify an asset directory, vb.**VISBEAT_ASSETS_DIR** where videos, audio, and metadata should be stored. All you have to do it provide a path to the root directory -- everything else will be handled by visbeat.\n",
    "\n",
    "### VISBEAT_ASSETS_DIR organization\n",
    "See the layout of the assets dir below. There is a 'VideoSources' folder with a separate directory for each video source. Inside each of these directories you will find a 'Versions' folder and a 'Data' folder. The 'Versions' folder stores all variations of the source video: e.g., the original, different resolutions, and any warped outputs we compute. The 'Data' folder saves metadata as well as things like optical flow that are expensive to compute (so we can load results from disk instead of computing them over and over again).\n",
    "\n",
    "-  VisBeatAssets\n",
    "    -  VideoSources\n",
    "        -  Video1\n",
    "            -  Data\n",
    "            -  Versions\n",
    "                -  Original\n",
    "                -  Warps\n",
    "        -  Video2\n",
    "            -  Data\n",
    "            -  Versions\n",
    "                -  Original\n",
    "                -  Warps\n",
    "        ...\n",
    "\n",
    "<div class=\"alert alert-block alert-warning\">\n",
    "<b>Note:</b> It is possible to use visbeat without relying on the assets dir. You can look through my code to see how this is done, but may find that path more difficult. Most complex video editing software needs to manage lots of video versions and metadata on disk and VisBeat is no exception. I should note that VisBeat was extracted from a larger code base I also use in other projects, which is cause for some of the more confusing elements in the code...</div>\n",
    "\n",
    "***"
   ]
  },
  {
   "cell_type": "code",
   "execution_count": null,
   "metadata": {},
   "outputs": [],
   "source": [
    "# Set the AssetsDir\n",
    "vb.SetAssetsDir('./VisBeatAssets/');\n",
    "\n",
    "# For this tutorial we'll also use some files from the test_files dir\n",
    "test_files_folder = os.path.join('.', 'test_files');"
   ]
  },
  {
   "cell_type": "markdown",
   "metadata": {},
   "source": [
    "***\n",
    "<a id='section0p3'></a>\n",
    "## 0.3 -- Pull some video to play with...\n",
    "\n",
    "Great! Now lets pull some content to work with. For this we'll use two functions:\n",
    "\n",
    "vb.**PullVideo(name, source_location)** \n",
    "- Pulls a video to the assets directory and puts it in a folder named according to 'name' \n",
    "- If source_location is a path to a local file, it will copy that file. \n",
    "- if source_location is the url of a Youtube video, it will download that video. Either way, the video is assigned 'name' for future reference.\n",
    "\n",
    "vb.**LoadVideo(name)** \n",
    "- Loads a previously created video according to whatever name you assigned it.\n",
    "\n",
    "We'll start with a simple synthetic video \"./test_files/synth_ball.mp4\" which shows a ball bouncing around in a box.\n",
    "\n",
    "<div class=\"alert alert-block alert-info\">\n",
    "<b>Tip:</b> Both functions can also take a 'max_height' parameter, which lets you pull different resolutions of the video. For youtube videos, it will request a video with maximum height &lt;= max_height from their servers (what that returns is up to them). For files, you can use max_height to get a lower resolution version of the video with height=max_height at the same aspect ratio.\n",
    "</div>\n",
    "\n",
    "<div class=\"alert alert-block alert-warning\">\n",
    "<b>Warning:</b> Sometimes Youtube's scaling results in weird data... If a video isn't working at a lower resolution (like max_height=240, which is the default), try setting max_height=None. This will get the full res video, which you can then add locally and let visbeat compute lower res versions.\n",
    "</div>\n",
    "\n",
    "\n",
    "<!-- <video controls src=\"synth_ball.mp4\">, -->\n",
    "\n",
    "\n",
    "\n",
    "<!--**NOTE: The default max_height is set to 240 for fast experimentation. If you want to render full resolution, set max_height=None**-->\n",
    "***"
   ]
  },
  {
   "cell_type": "code",
   "execution_count": null,
   "metadata": {},
   "outputs": [],
   "source": [
    "# Small convenience class to make code more readable and use basic file name if no name is provided;\n",
    "class SourceMedia:\n",
    "    def __init__(self, path, name=None, **kwargs):\n",
    "        self.path = path;\n",
    "        self._name = name;\n",
    "        self.__dict__.update(**kwargs)\n",
    "    @property\n",
    "    def name(self):         \n",
    "        if(self._name is not None):\n",
    "            return self._name;\n",
    "        else:\n",
    "            return os.path.splitext(os.path.basename(self.path))[0];\n",
    "\n",
    "# In this case the name of our SourceMedia will default to 'synth_ball' \n",
    "path_to_test_video = os.path.join(test_files_folder, 'synth_ball.mp4');\n",
    "synth_ball=SourceMedia(path = path_to_test_video);\n",
    "\n",
    "# Pull the video into VisBeatAssets\n",
    "vb.PullVideo(name=synth_ball.name, source_location=synth_ball.path);"
   ]
  },
  {
   "cell_type": "markdown",
   "metadata": {},
   "source": [
    "***\n",
    "<a id='section0p4'></a>\n",
    "## 0.4 -- Video, Audio, and Images __[(oh my!)](https://youtu.be/-HrfbV16-FQ?t=16)__\n",
    "\n",
    "### Video:\n",
    "You can load previously pulled videos by simply refering to their name with my_video = vb.**LoadVideo** and play them with my_video.**play()**. Loading a video this way also loads some previously evaluated things like optical flow so you don't have to recompute them again. \n",
    "\n",
    "### Audio:\n",
    "Access a video's audio using my_video.**getAudio()**, and play it using my_audio.**play()**\n",
    "\n",
    "### Images:\n",
    "Get frame f of a video as a numpy array using my_video.**getFrame(f)**. Or we can get an image object using my_video.**getImageFromFrame(f)**, which we can then display using my_image.**show()**.\n",
    "\n",
    "<div class=\"alert alert-block alert-info\">\n",
    "<b>Tip:</b> You can also use the Video, Audio, and Image classes with regular media files (without the rest of visbeat), but you won't get some of the feature saving/loading functionality.\n",
    "</div>\n",
    "\n",
    "***\n"
   ]
  },
  {
   "cell_type": "code",
   "execution_count": null,
   "metadata": {
    "scrolled": false
   },
   "outputs": [],
   "source": [
    "# Now we can load the video like so...\n",
    "vid = vb.LoadVideo(name=synth_ball.name)\n",
    "\n",
    "# And play it in a notebook...\n",
    "vid.play()\n",
    "\n",
    "# Get the Audio\n",
    "aud = vid.getAudio();\n",
    "\n",
    "# Play the audio\n",
    "aud.play()\n",
    "\n",
    "# get an Image object correspoding to a frame number\n",
    "img = vid.getImageFromFrame(5);\n",
    "\n",
    "# and show it\n",
    "img.show()\n"
   ]
  },
  {
   "cell_type": "markdown",
   "metadata": {},
   "source": [
    "## 0.5 -- Saving / Loading Features\n",
    "\n",
    "**NOTE:** This subsection is not critical, but may be useful if you want to experiment with new ideas using visbeat.\n",
    "\n",
    "Some of the slower video instance methods in visbeat store results as features that are saved to and loaded from disk. This avoids recomputing expensive values every time you run an experiment. You can use this functionality yourself by setting anything pickle-able as a video feature, and calling `save()`. Next time you use `vb.LoadVideo()` to get that video, the feature will load with it from disk."
   ]
  },
  {
   "cell_type": "code",
   "execution_count": null,
   "metadata": {},
   "outputs": [],
   "source": [
    "# Let's try computing the spectrogram of our video's audio with some really tiny hop size...\n",
    "# Notice that this calculation takes a bit to perform...\n",
    "\n",
    "compute_start = time.time()\n",
    "detailed_spec = vid.audio.getSpectrogram(hop_length=8, force_recompute=True);\n",
    "compute_time = time.time()-compute_start;\n",
    "\n",
    "print(\"Computing took {}s\".format(compute_time))\n",
    "\n",
    "# The resulting array is huge, so lets just take a peek at the first bounce sound...\n",
    "# images are displayed with row 0 at the top, so it will look upside down here... \n",
    "vb.Image.FromGrayScale(gray_data=np.log(1.0+detailed_spec[:,2000:5000]), color_map='jet').show()\n",
    "plt.title('Computed Segment of Spectrogram')\n",
    "plt.show()\n",
    "\n",
    "feature_name = 'name_for_my_spectrogram_feature';\n",
    "\n",
    "# To avoid computing the spectrogram again, lets save it as a feature of our video.\n",
    "vid.setFeature(feature_name, detailed_spec);\n",
    "vid.save(); # saves all features to disk\n",
    "\n",
    "# Now we'll reload our video from disk, and our feature along with it...\n",
    "load_start = time.time();\n",
    "vid_again = vb.LoadVideo(name=synth_ball.name);\n",
    "reloaded_spec = vid_again.getFeature(feature_name);\n",
    "load_time = time.time()-load_start;\n",
    "\n",
    "print(\"Loading took {}s\".format(load_time));\n",
    "\n",
    "vb.Image.FromGrayScale(gray_data=np.log(1.0+reloaded_spec[:,2000:5000]), color_map='jet').show()\n",
    "plt.title('Loaded From File (it\\'s the same)')\n",
    "plt.show()\n",
    "\n",
    "print(\"Loading was {} times faster...\".format(np.true_divide(compute_time, load_time)));\n"
   ]
  },
  {
   "cell_type": "code",
   "execution_count": null,
   "metadata": {},
   "outputs": [],
   "source": []
  },
  {
   "cell_type": "markdown",
   "metadata": {},
   "source": [
    "# Section 2: Visible Impact and Visual Beats\n",
    "\n",
    "\n",
    "## 2.0 Installing OpenCV\n",
    "\n",
    "Check out the docker container in the git repo for one avenue...\n"
   ]
  },
  {
   "cell_type": "code",
   "execution_count": null,
   "metadata": {},
   "outputs": [],
   "source": []
  },
  {
   "cell_type": "markdown",
   "metadata": {},
   "source": [
    "# Below you can see how to dancify the turtle. I will come back to this and add more explanation in Jan when I have more time -Abe"
   ]
  },
  {
   "cell_type": "code",
   "execution_count": null,
   "metadata": {},
   "outputs": [],
   "source": []
  },
  {
   "cell_type": "code",
   "execution_count": null,
   "metadata": {},
   "outputs": [],
   "source": [
    "turtle = vb.PullVideo(name='turtle', source_location='https://www.youtube.com/watch?v=PWD4gktEUAY')\n",
    "turtle.play()\n",
    "\n",
    "sexy_science = vb.PullVideo(name='sexy_science', source_location = 'https://www.youtube.com/watch?v=sy-kueG6KlA')"
   ]
  },
  {
   "cell_type": "code",
   "execution_count": null,
   "metadata": {},
   "outputs": [],
   "source": []
  },
  {
   "cell_type": "code",
   "execution_count": null,
   "metadata": {},
   "outputs": [],
   "source": [
    "synch_video_beat = 0;\n",
    "synch_audio_beat = 0;\n",
    "nbeats = 16;\n",
    "\n",
    "output_path = './SexyTurtleScientist.mp4';\n",
    "\n",
    "warped = vb.Dancify(source_video=turtle, target=sexy_science.getAudio(), synch_video_beat=synch_video_beat,\n",
    "                    synch_audio_beat=synch_audio_beat, force_recompute=True, warp_type = 'quad',\n",
    "                    nbeats=nbeats, output_path = output_path)\n"
   ]
  },
  {
   "cell_type": "code",
   "execution_count": null,
   "metadata": {},
   "outputs": [],
   "source": [
    "warped.play()"
   ]
  },
  {
   "cell_type": "code",
   "execution_count": null,
   "metadata": {},
   "outputs": [],
   "source": []
  }
 ],
 "metadata": {
  "kernelspec": {
   "display_name": "Python 2",
   "language": "python",
   "name": "python2"
  },
  "language_info": {
   "codemirror_mode": {
    "name": "ipython",
    "version": 2
   },
   "file_extension": ".py",
   "mimetype": "text/x-python",
   "name": "python",
   "nbconvert_exporter": "python",
   "pygments_lexer": "ipython2",
   "version": "2.7.15"
  },
  "varInspector": {
   "cols": {
    "lenName": 16,
    "lenType": 16,
    "lenVar": 40
   },
   "kernels_config": {
    "python": {
     "delete_cmd_postfix": "",
     "delete_cmd_prefix": "del ",
     "library": "var_list.py",
     "varRefreshCmd": "print(var_dic_list())"
    },
    "r": {
     "delete_cmd_postfix": ") ",
     "delete_cmd_prefix": "rm(",
     "library": "var_list.r",
     "varRefreshCmd": "cat(var_dic_list()) "
    }
   },
   "types_to_exclude": [
    "module",
    "function",
    "builtin_function_or_method",
    "instance",
    "_Feature"
   ],
   "window_display": false
  }
 },
 "nbformat": 4,
 "nbformat_minor": 2
}
