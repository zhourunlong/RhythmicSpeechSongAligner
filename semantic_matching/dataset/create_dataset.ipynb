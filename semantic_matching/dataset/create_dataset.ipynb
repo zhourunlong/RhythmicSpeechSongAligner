{
 "metadata": {
  "orig_nbformat": 2,
  "kernelspec": {
   "name": "python3",
   "display_name": "Python 3",
   "language": "python"
  }
 },
 "nbformat": 4,
 "nbformat_minor": 2,
 "cells": [
  {
   "cell_type": "code",
   "execution_count": 42,
   "metadata": {},
   "outputs": [],
   "source": [
    "import os\n",
    "import ast\n",
    "data = []"
   ]
  },
  {
   "cell_type": "code",
   "execution_count": 43,
   "metadata": {
    "tags": []
   },
   "outputs": [
    {
     "output_type": "stream",
     "name": "stdout",
     "text": [
      "MSRpar.test.tsv\nMSRpar.train.tsv\nOnWN.test.tsv\nSMTeuroparl.test.tsv\nSMTeuroparl.train.tsv\nSMTnews.test.tsv\nFNWN.test.tsv\nheadlines.test.tsv\nOnWN.test.tsv\ndeft-forum.test.tsv\ndeft-news.test.tsv\nheadlines.test.tsv\nimages.test.tsv\nOnWN.test.tsv\ntweet-news.test.tsv\nanswers-forums.test.tsv\nanswers-students.test.tsv\nbelief.test.tsv\nheadlines.test.tsv\nimages.test.tsv\nanswer-answer.test.tsv\nheadlines.test.tsv\nplagiarism.test.tsv\npostediting.test.tsv\nquestion-question.test.tsv\n13278\n"
     ]
    }
   ],
   "source": [
    "for year in [\"2012\", \"2013\", \"2014\", \"2015\", \"2016\"]:\n",
    "    all = os.listdir(year)\n",
    "    for fn in all:\n",
    "        if not fn.endswith(\"tsv\"):\n",
    "            continue\n",
    "        print(fn)\n",
    "        with open(os.path.join(year, fn), encoding=\"utf-8\") as f:\n",
    "            for line in f:\n",
    "                split_line = line.replace(\"\\n\", \"\").replace(\"\\r\", \"\").split(\"\\t\")\n",
    "                if len(split_line) != 3 or split_line[0] == \"\":\n",
    "                    continue\n",
    "                data.append({\"score\": float(split_line[0]), \"sen1\": split_line[1], \"sen2\": split_line[2]})\n",
    "print(len(data))"
   ]
  },
  {
   "cell_type": "code",
   "execution_count": 44,
   "metadata": {
    "tags": []
   },
   "outputs": [
    {
     "output_type": "stream",
     "name": "stdout",
     "text": [
      "13528\n"
     ]
    }
   ],
   "source": [
    "input = open(\"2017/STS.input.track5.en-en.txt\")\n",
    "gs = open(\"2017/STS.gs.track5.en-en.txt\")\n",
    "inputs = [f for f in input]\n",
    "gss = [f for f in gs]\n",
    "for i in range(len(inputs)):\n",
    "    sen = inputs[i]\n",
    "    score = gss[i]\n",
    "    split_line = sen.replace(\"\\n\", \"\").replace(\"\\r\", \"\").split(\"\\t\")\n",
    "    score = float(score.replace(\"\\n\", \"\").replace(\"\\r\", \"\"))\n",
    "    if len(split_line) != 2:\n",
    "        continue\n",
    "    data.append({\"score\": score, \"sen1\": split_line[0], \"sen2\": split_line[1]})\n",
    "\n",
    "print(len(data))"
   ]
  },
  {
   "cell_type": "code",
   "execution_count": 45,
   "metadata": {},
   "outputs": [],
   "source": [
    "n = len(data)\n",
    "\n",
    "import numpy as np\n",
    "import json\n",
    "\n",
    "valid_num = int(n * 0.1)\n",
    "train_num = n - valid_num\n",
    "\n",
    "valid_idx = np.random.choice(n, valid_num, replace=False)\n",
    "\n",
    "valid = open(\"valid.json\", \"w\")\n",
    "train = open(\"train.json\", \"w\")\n",
    "\n",
    "for i in range(n):\n",
    "    if i in valid_idx:\n",
    "        valid.write(json.dumps(data[i]))\n",
    "        valid.write(\"\\n\")\n",
    "    else:\n",
    "        train.write(json.dumps(data[i]))\n",
    "        train.write(\"\\n\")\n",
    "\n",
    "valid.close()\n",
    "train.close()"
   ]
  },
  {
   "cell_type": "code",
   "execution_count": null,
   "metadata": {},
   "outputs": [],
   "source": []
  }
 ]
}